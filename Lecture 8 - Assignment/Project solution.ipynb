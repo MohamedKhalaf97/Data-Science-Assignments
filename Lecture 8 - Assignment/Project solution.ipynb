{
 "cells": [
  {
   "cell_type": "code",
   "execution_count": 1,
   "metadata": {},
   "outputs": [],
   "source": [
    "import os\n",
    "import random"
   ]
  },
  {
   "cell_type": "code",
   "execution_count": 2,
   "metadata": {
    "scrolled": true
   },
   "outputs": [
    {
     "data": {
      "text/plain": [
       "['Boruto OST 1 - Track 23 - Karetsu (Severe).mp3',\n",
       " 'wkoqsgdpww.mp4',\n",
       " 'flfmmzsmwd.png',\n",
       " '1faf4fec-f78c-4ac6-b019-e396bb2473bf.jpg',\n",
       " 'lznzcgzsot.mp4',\n",
       " 'mhosxxsigj.pdf',\n",
       " 'tnygemjjlm.png',\n",
       " 'wmzxxympxp.pdf',\n",
       " 'nnspjysile.png',\n",
       " 'yytfprjvjh.png',\n",
       " 'Attack on Titan Season 3 OST - HuManity or TiTans [3Tv] by Hiroyuki Sawano (English and German S (mp3cut.net).mp3',\n",
       " 'tprotxooyk.png',\n",
       " '4bed6c1e-5dc4-43e6-9d74-e658539f259d.jpg',\n",
       " '3b8cfe5c-10d9-4d26-9177-e9325d3e40ab.jpg',\n",
       " 'qhmzejlgxt.png']"
      ]
     },
     "execution_count": 2,
     "metadata": {},
     "output_type": "execute_result"
    }
   ],
   "source": [
    "universe = os.listdir('project/universe')\n",
    "universe"
   ]
  },
  {
   "cell_type": "code",
   "execution_count": 3,
   "metadata": {},
   "outputs": [
    {
     "data": {
      "text/plain": [
       "15"
      ]
     },
     "execution_count": 3,
     "metadata": {},
     "output_type": "execute_result"
    }
   ],
   "source": [
    "len(universe)"
   ]
  },
  {
   "cell_type": "code",
   "execution_count": 4,
   "metadata": {},
   "outputs": [],
   "source": [
    "letters = 'apcdefghijklmnopqrstuvwxyz'"
   ]
  },
  {
   "cell_type": "code",
   "execution_count": 5,
   "metadata": {},
   "outputs": [
    {
     "data": {
      "text/plain": [
       "['o', 'h', 'h', 'a', 'd', 'w', 'r', 'l', 'y', 'm']"
      ]
     },
     "execution_count": 5,
     "metadata": {},
     "output_type": "execute_result"
    }
   ],
   "source": [
    "[random.choice(letters) for i in range(10)]"
   ]
  },
  {
   "cell_type": "code",
   "execution_count": 6,
   "metadata": {},
   "outputs": [
    {
     "data": {
      "text/plain": [
       "'hkkuchyfdj.'"
      ]
     },
     "execution_count": 6,
     "metadata": {},
     "output_type": "execute_result"
    }
   ],
   "source": [
    "''.join([random.choice(letters) for i in range(10)]) + '.'"
   ]
  },
  {
   "cell_type": "code",
   "execution_count": 7,
   "metadata": {},
   "outputs": [],
   "source": [
    "for element in universe:\n",
    "    extension = element.split('.')[-1]\n",
    "    if extension in ['mp3', 'jpg']:\n",
    "        continue\n",
    "    name = ''.join([random.choice(letters) for i in range(10)]) + '.' + extension\n",
    "    os.rename(f'project/universe/{element}', f'project/universe/{name}')"
   ]
  },
  {
   "cell_type": "code",
   "execution_count": null,
   "metadata": {},
   "outputs": [],
   "source": []
  }
 ],
 "metadata": {
  "kernelspec": {
   "display_name": "Python 3",
   "language": "python",
   "name": "python3"
  },
  "language_info": {
   "codemirror_mode": {
    "name": "ipython",
    "version": 3
   },
   "file_extension": ".py",
   "mimetype": "text/x-python",
   "name": "python",
   "nbconvert_exporter": "python",
   "pygments_lexer": "ipython3",
   "version": "3.7.6"
  }
 },
 "nbformat": 4,
 "nbformat_minor": 4
}
