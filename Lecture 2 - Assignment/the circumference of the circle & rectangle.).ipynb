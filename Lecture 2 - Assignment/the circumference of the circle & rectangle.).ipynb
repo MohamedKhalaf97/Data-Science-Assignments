{
 "cells": [
  {
   "cell_type": "code",
   "execution_count": 1,
   "metadata": {},
   "outputs": [
    {
     "name": "stdout",
     "output_type": "stream",
     "text": [
      "the perimeter of the rectangle.\n",
      "perimeter = 2 * ( length + width )\n",
      "length: 10\n",
      "width: 20\n",
      "60\n"
     ]
    }
   ],
   "source": [
    "print('the perimeter of the rectangle.')\n",
    "print('perimeter = 2 * ( length + width )')\n",
    "length = int(input('length: '))\n",
    "width = int(input('width: '))\n",
    "perimeter = 2 * ( length + width )\n",
    "print(perimeter)"
   ]
  },
  {
   "cell_type": "code",
   "execution_count": 2,
   "metadata": {},
   "outputs": [
    {
     "name": "stdout",
     "output_type": "stream",
     "text": [
      "the perimeter of the circle.\n",
      "perimeter = pi * diameter\n",
      "pi: 3.14\n",
      "diameter: 10\n",
      "31.400000000000002\n"
     ]
    }
   ],
   "source": [
    "print('the perimeter of the circle.')\n",
    "print('perimeter = pi * diameter')\n",
    "pi = float(input('pi: '))\n",
    "diameter = int(input('diameter: '))\n",
    "perimeter = pi * diameter\n",
    "print(perimeter)"
   ]
  },
  {
   "cell_type": "code",
   "execution_count": 3,
   "metadata": {},
   "outputs": [
    {
     "name": "stdout",
     "output_type": "stream",
     "text": [
      "or\n",
      "perimeter = pi * ( 2 * radius )\n",
      "pi: 3.14\n",
      "radius: 5\n",
      "31.400000000000002\n"
     ]
    }
   ],
   "source": [
    "print('or')\n",
    "print('perimeter = pi * ( 2 * radius )')\n",
    "pi = float(input('pi: '))\n",
    "radius = int(input('radius: '))\n",
    "perimeter = pi * (2 * radius)\n",
    "print(perimeter)"
   ]
  },
  {
   "cell_type": "code",
   "execution_count": null,
   "metadata": {},
   "outputs": [],
   "source": []
  }
 ],
 "metadata": {
  "kernelspec": {
   "display_name": "Python 3",
   "language": "python",
   "name": "python3"
  },
  "language_info": {
   "codemirror_mode": {
    "name": "ipython",
    "version": 3
   },
   "file_extension": ".py",
   "mimetype": "text/x-python",
   "name": "python",
   "nbconvert_exporter": "python",
   "pygments_lexer": "ipython3",
   "version": "3.7.6"
  }
 },
 "nbformat": 4,
 "nbformat_minor": 4
}
