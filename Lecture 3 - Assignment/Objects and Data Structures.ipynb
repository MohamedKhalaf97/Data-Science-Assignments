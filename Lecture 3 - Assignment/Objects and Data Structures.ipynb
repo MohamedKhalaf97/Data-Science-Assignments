{
 "cells": [
  {
   "cell_type": "markdown",
   "metadata": {
    "collapsed": true
   },
   "source": [
    "## Test your knowledge. \n",
    "\n",
    "**Answer the following questions**"
   ]
  },
  {
   "cell_type": "markdown",
   "metadata": {
    "collapsed": true
   },
   "source": [
    "Write a brief description of all the following Object Types and Data Structures we've learned about: "
   ]
  },
  {
   "cell_type": "markdown",
   "metadata": {},
   "source": [
    "Numbers: \n",
    "There are 3 numeric types in Python: int , float, complex\n",
    "int: ( x = 1 )\n",
    "float: ( x = 1.2 )\n",
    "complex: ( x = 3 + 5j )\n",
    "\n",
    "Strings:\n",
    "    string litrals: \n",
    "        print('hello world') \n",
    "        or\n",
    "        print(\"hello world\")\n",
    "    assign string to a variable: \n",
    "        a = \"hello world\"\n",
    "        print(a)\n",
    "    multiline strings\n",
    "    strings are arrays\n",
    "\n",
    "Lists:  is a collection which is ordered and changeable. Allows duplicate members.\n",
    "    \n",
    "\n",
    "Tuples: is a collection which is ordered and unchangeable. Allows duplicate members.\n",
    "\n",
    "Dictionaries: is a collection which is unordered, changeable and indexed. No duplicate members.\n",
    "\n"
   ]
  },
  {
   "cell_type": "markdown",
   "metadata": {},
   "source": [
    "# Numbers\n",
    "\n",
    "Write an equation that uses multiplication, division, an exponent, addition, and subtraction that is equal to 100.25.\n",
    "\n",
    "Hint: This is just to test your memory of the basic arithmetic commands, work backwards from 100.25"
   ]
  },
  {
   "cell_type": "code",
   "execution_count": 1,
   "metadata": {},
   "outputs": [
    {
     "name": "stdout",
     "output_type": "stream",
     "text": [
      "summation      = 95         + 5.25 = 100.25\n",
      "subtraction    = 106        - 5.75 = 100.25\n",
      "multiplication = 50.25      * 2    = 100.5\n",
      "division       = 200.5      / 2    = 100.25\n",
      "exponential    = 10.0124922 ^ 2    = 100.25000005506085\n"
     ]
    }
   ],
   "source": [
    "num1 = 95\n",
    "num2 = 5.25\n",
    "result = num1 + num2\n",
    "print (\"summation      =\", num1, \"        +\", num2, \"=\", result)\n",
    "\n",
    "num1 = 106\n",
    "num2 = 5.75\n",
    "result = num1 - num2\n",
    "print (\"subtraction    =\", num1, \"       -\", num2, \"=\", result)\n",
    "\n",
    "num1 = 50.25\n",
    "num2 = 2\n",
    "result = num1 * num2\n",
    "print (\"multiplication =\", num1, \"     *\", num2, \"   =\", result)\n",
    "\n",
    "num1 = 200.50\n",
    "num2 =2\n",
    "result = num1 / num2\n",
    "print (\"division       =\", num1, \"     /\", num2, \"   =\", result)\n",
    "\n",
    "num1 = 10.0124922\n",
    "exponent = 2\n",
    "result = num1 ** exponent\n",
    "print (\"exponential    =\", num1, \"^ 2\", \"   =\", result)\n"
   ]
  },
  {
   "cell_type": "markdown",
   "metadata": {},
   "source": [
    "Answer these 3 questions without typing code. Then type code to check your answer.\n",
    "\n",
    "    What is the value of the expression 4 * (6 + 5)\n",
    "    \n",
    "    What is the value of the expression 4 * 6 + 5 \n",
    "    \n",
    "    What is the value of the expression 4 + 6 * 5 "
   ]
  },
  {
   "cell_type": "code",
   "execution_count": 2,
   "metadata": {},
   "outputs": [
    {
     "name": "stdout",
     "output_type": "stream",
     "text": [
      "4 * ( 6 + 5 ) = 44\n",
      "4 * 6 + 5     = 29\n",
      "4 + 6 * 5     = 34\n"
     ]
    }
   ],
   "source": [
    "# result 1 is 4 * ( 6 + 5 ) = 4 * 11 = 44\n",
    "# result 2 is 4 * 6 + 5 = 29\n",
    "# result 3 is 4 + 6 * 5 = 4 + ( 30 ) = 34\n",
    "\n",
    "result_1 = 4 * ( 6 + 5 )\n",
    "print(\"4 * ( 6 + 5 ) =\", result_1)\n",
    "\n",
    "result_2 = 4 * 6 + 5 \n",
    "print(\"4 * 6 + 5     =\", result_2)\n",
    "\n",
    "result_3 = 4 + 6 * 5\n",
    "print(\"4 + 6 * 5     =\", result_3)"
   ]
  },
  {
   "cell_type": "markdown",
   "metadata": {},
   "source": [
    "What is the *type* of the result of the expression 3 + 1.5 + 4?<br><br>"
   ]
  },
  {
   "cell_type": "code",
   "execution_count": 3,
   "metadata": {},
   "outputs": [
    {
     "data": {
      "text/plain": [
       "float"
      ]
     },
     "execution_count": 3,
     "metadata": {},
     "output_type": "execute_result"
    }
   ],
   "source": [
    "type(3 + 1.5 + 4)"
   ]
  },
  {
   "cell_type": "markdown",
   "metadata": {},
   "source": [
    "What would you use to find a number’s square root, as well as its square? "
   ]
  },
  {
   "cell_type": "code",
   "execution_count": 4,
   "metadata": {
    "scrolled": true
   },
   "outputs": [
    {
     "name": "stdout",
     "output_type": "stream",
     "text": [
      "number: 25\n",
      "square_root of 25.0 is 5.0\n"
     ]
    }
   ],
   "source": [
    "# Square root:\n",
    "num = float(input(\"number: \"))\n",
    "result = num ** 0.5\n",
    "print(\"square_root of\", num, \"is\", result)\n"
   ]
  },
  {
   "cell_type": "code",
   "execution_count": 5,
   "metadata": {
    "scrolled": true
   },
   "outputs": [
    {
     "name": "stdout",
     "output_type": "stream",
     "text": [
      "number:25\n",
      "square of 25.0 is 625.0\n"
     ]
    }
   ],
   "source": [
    "# Square:\n",
    "num = float(input(\"number:\"))\n",
    "result = num ** 2\n",
    "print(\"square of\", num , \"is\", result)\n"
   ]
  },
  {
   "cell_type": "code",
   "execution_count": null,
   "metadata": {},
   "outputs": [],
   "source": []
  }
 ],
 "metadata": {
  "kernelspec": {
   "display_name": "Python 3",
   "language": "python",
   "name": "python3"
  },
  "language_info": {
   "codemirror_mode": {
    "name": "ipython",
    "version": 3
   },
   "file_extension": ".py",
   "mimetype": "text/x-python",
   "name": "python",
   "nbconvert_exporter": "python",
   "pygments_lexer": "ipython3",
   "version": "3.7.6"
  }
 },
 "nbformat": 4,
 "nbformat_minor": 4
}
